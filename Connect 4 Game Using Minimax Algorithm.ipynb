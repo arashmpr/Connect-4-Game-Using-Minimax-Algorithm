{
 "cells": [
  {
   "cell_type": "markdown",
   "metadata": {},
   "source": [
    "<h1 align=\"center\">Connect 4 Game Using Minimax-Alphabeta Algorithm</h1>"
   ]
  },
  {
   "cell_type": "markdown",
   "metadata": {},
   "source": [
    "<h2 align=\"center\">University of Tehran</h2>"
   ]
  },
  {
   "cell_type": "markdown",
   "metadata": {},
   "source": [
    "<h3>Introduction</h3>"
   ]
  },
  {
   "cell_type": "markdown",
   "metadata": {},
   "source": [
    "In this assignment we have 2 agents, one is `CPU` and the other is `YOU`. The goal is to use minimax algorithm so that the chance of player `YOU` winning increases as the depth increases."
   ]
  },
  {
   "cell_type": "markdown",
   "metadata": {},
   "source": [
    "<h2> What is Minimax Algorithm and Why We Use It? </h2>"
   ]
  },
  {
   "cell_type": "markdown",
   "metadata": {},
   "source": [
    "<h3>Introduction</h3>"
   ]
  },
  {
   "cell_type": "markdown",
   "metadata": {},
   "source": [
    "Minimax is a kind of backtracking algorithm that is used in decision making and game theory to find the optimal move for a player, assuming that your opponent also plays optimally. It is widely used in two player turn-based games such as Tic-Tac-Toe, Backgammon, Mancala, Chess, etc."
   ]
  },
  {
   "cell_type": "markdown",
   "metadata": {},
   "source": [
    "<h3>How it works</h3>"
   ]
  },
  {
   "cell_type": "markdown",
   "metadata": {},
   "source": [
    "In Minimax the two players are called ``maximizer`` and `minimizer`. The maximizer tries to get the highest score possible while the minimizer tries to do the opposite and get the lowest score possible.\n",
    "Every board state has a value associated with it. In a given state if the maximizer has upper hand then, the score of the board will tend to be some positive value. If the minimizer has the upper hand in that board state then it will tend to be some negative value. The values of the board are calculated by some `heuristics` which are unique for every type of game."
   ]
  },
  {
   "cell_type": "markdown",
   "metadata": {},
   "source": [
    "<h2>Alpha-Beta Pruning</h2>"
   ]
  },
  {
   "cell_type": "markdown",
   "metadata": {},
   "source": [
    "<h3>Introduction</h3>"
   ]
  },
  {
   "cell_type": "markdown",
   "metadata": {},
   "source": [
    "Alpha-Beta pruning is not actually a new algorithm, rather an `optimization technique` for minimax algorithm. It `reduces the computation time` by a huge factor.<br>"
   ]
  },
  {
   "cell_type": "markdown",
   "metadata": {},
   "source": [
    "<h3>Why do we use pruning in our algorithm></h3>"
   ]
  },
  {
   "cell_type": "markdown",
   "metadata": {},
   "source": [
    "This allows us to search much `faster` and even go into `deeper` levels in the game tree.<br>\n",
    "It cuts off branches in the game tree which need not be searched because there already exists a better move available."
   ]
  },
  {
   "cell_type": "markdown",
   "metadata": {},
   "source": [
    "<h3>What are Alpha and Beta?</h3>"
   ]
  },
  {
   "cell_type": "markdown",
   "metadata": {},
   "source": [
    "**Alpha** is the best value that the `maximizer` currently can guarantee at that level or above.<br>\n",
    "**Beta** is the best value that the `minimizer` currently can guarantee at that level or above."
   ]
  },
  {
   "cell_type": "code",
   "execution_count": 51,
   "metadata": {},
   "outputs": [],
   "source": [
    "from random import random, choice\n",
    "import math\n",
    "import numpy as np\n",
    "import copy"
   ]
  },
  {
   "cell_type": "code",
   "execution_count": 52,
   "metadata": {},
   "outputs": [],
   "source": [
    "class ConnectSin:\n",
    "    YOU = 1\n",
    "    CPU = -1\n",
    "    EMPTY = 0\n",
    "    DRAW = 0\n",
    "    \n",
    "    __CONNECT_NUMBER = 4\n",
    "    board = None\n",
    "    \n",
    "    YOU_WINS_SCORE = 1000\n",
    "    YOU_LOSES_SCORE = -1000\n",
    "    \n",
    "    PLAYER_YOU_ID = 1\n",
    "    PLAYER_CPU_ID = -1\n",
    "    \n",
    "    WINDOW_LENGTH = 4\n",
    "    \n",
    "    PER_CPU_SCORE = -1\n",
    "    PER_YOU_SCORE = 1\n",
    "    \n",
    "    DEFAULT_DEPTH_SIZE = 3\n",
    "\n",
    "    def __init__(self, board_size=(6, 7), silent=False):\n",
    "        \"\"\"\n",
    "        The main class for the connect4 game\n",
    "\n",
    "        Inputs\n",
    "        ----------\n",
    "        board_size : a tuple representing the board size in format: (rows, columns)\n",
    "        silent     : whether the game prints outputs or not\n",
    "        \"\"\"\n",
    "        assert len(board_size) == 2, \"board size should be a 1*2 tuple\"\n",
    "        assert board_size[0] > 4 and board_size[1] > 4, \"board size should be at least 5*5\"\n",
    "\n",
    "        self.columns = board_size[1]\n",
    "        self.rows = board_size[0]\n",
    "        self.silent = silent\n",
    "        self.board_size = self.rows * self.columns\n",
    "        self.depth = self.DEFAULT_DEPTH_SIZE\n",
    "\n",
    "    def run(self, starter=None):\n",
    "        \"\"\"\n",
    "        runs the game!\n",
    "\n",
    "        Inputs\n",
    "        ----------\n",
    "        starter : either -1,1 or None. -1 if cpu starts the game, 1 if you start the game. None if you want the starter\n",
    "            to be assigned randomly \n",
    "\n",
    "        Output\n",
    "        ----------\n",
    "        (int) either 1,0,-1. 1 meaning you have won, -1 meaning the player has won and 0 means that the game has drawn\n",
    "        \"\"\"\n",
    "        if (not starter):\n",
    "            starter = self.__get_random_starter()\n",
    "        assert starter in [self.YOU, self.CPU], \"starter value can only be 1,-1 or None\"\n",
    "        \n",
    "        self.__init_board()\n",
    "        turns_played = 0\n",
    "        current_player = starter\n",
    "        while(turns_played < self.board_size):\n",
    "            \n",
    "            if (current_player == self.YOU):\n",
    "                self.__print_board()\n",
    "                player_input = self.get_your_input()\n",
    "            elif (current_player == self.CPU):\n",
    "                player_input = self.__get_cpu_input()\n",
    "            else:\n",
    "                raise Exception(\"A problem has happend! contact no one, there is no fix!\")\n",
    "            if (not self.register_input(player_input, current_player)):\n",
    "                self.__print(\"this move is invalid!\")\n",
    "                continue\n",
    "            current_player = self.__change_turn(current_player)\n",
    "            potential_winner = self.check_for_winners()\n",
    "            turns_played += 1\n",
    "            if (potential_winner != 0):\n",
    "                self.__print_board()\n",
    "                self.__print_winner_message(potential_winner)\n",
    "                return potential_winner\n",
    "        self.__print_board()\n",
    "        self.__print(\"The game has ended in a draw!\")\n",
    "        return self.DRAW\n",
    "\n",
    "    def get_your_input(self):\n",
    "        \"\"\"\n",
    "        gets your input\n",
    "\n",
    "        Output\n",
    "        ----------\n",
    "        (int) an integer between 1 and column count. the column to put a piece in\n",
    "        \"\"\"\n",
    "        board = copy.deepcopy(self.board)\n",
    "        col, _ = self.minimax(-math.inf, math.inf, self.depth, True)\n",
    "        self.board = board\n",
    "    \n",
    "        return col\n",
    "\n",
    "    def check_for_winners(self):\n",
    "        \"\"\"\n",
    "        checks if anyone has won in this position\n",
    "\n",
    "        Output\n",
    "        ----------\n",
    "        (int) either 1,0,-1. 1 meaning you have won, -1 meaning the player has won and 0 means that nothing has happened\n",
    "        \"\"\"\n",
    "        have_you_won = self.check_if_player_has_won(self.YOU)\n",
    "        if have_you_won:\n",
    "            return self.YOU\n",
    "        has_cpu_won = self.check_if_player_has_won(self.CPU)\n",
    "        if has_cpu_won:\n",
    "            return self.CPU\n",
    "        return self.EMPTY\n",
    "\n",
    "    def check_if_player_has_won(self, player_id):\n",
    "        \"\"\"\n",
    "        checks if player with player_id has won\n",
    "\n",
    "        Inputs\n",
    "        ----------\n",
    "        player_id : the id for the player to check\n",
    "\n",
    "        Output\n",
    "        ----------\n",
    "        (boolean) true if the player has won in this position\n",
    "        \"\"\"\n",
    "        return (\n",
    "            self.__has_player_won_diagonally(player_id)\n",
    "            or self.__has_player_won_horizentally(player_id)\n",
    "            or self.__has_player_won_vertically(player_id)\n",
    "        )\n",
    "    \n",
    "    def is_move_valid(self, move):\n",
    "        \"\"\"\n",
    "        checks if this move can be played\n",
    "\n",
    "        Inputs\n",
    "        ----------\n",
    "        move : the column to place a piece in, in range [1, column count]\n",
    "\n",
    "        Output\n",
    "        ----------\n",
    "        (boolean) true if the move can be played\n",
    "        \"\"\"\n",
    "        if (move < 1 or move > self.columns):\n",
    "            return False\n",
    "        column_index = move - 1\n",
    "        return self.board[0][column_index] == 0\n",
    "    \n",
    "    def get_possible_moves(self):\n",
    "        \"\"\"\n",
    "        returns a list of possible moves for the next move\n",
    "\n",
    "        Output\n",
    "        ----------\n",
    "        (list) a list of numbers of columns that a piece can be placed in\n",
    "        \"\"\"\n",
    "        possible_moves = []\n",
    "        for i in range(self.columns):\n",
    "            move = i + 1\n",
    "            if (self.is_move_valid(move)):\n",
    "                possible_moves.append(move)\n",
    "        return possible_moves\n",
    "    \n",
    "    def register_input(self, player_input, current_player):\n",
    "        \"\"\"\n",
    "        registers move to board, remember that this function changes the board\n",
    "\n",
    "        Inputs\n",
    "        ----------\n",
    "        player_input : the column to place a piece in, in range [1, column count]\n",
    "        current_player: ID of the current player, either self.YOU or self.CPU\n",
    "\n",
    "        \"\"\"\n",
    "        if (not self.is_move_valid(player_input)):\n",
    "            return False\n",
    "        self.__drop_piece_in_column(player_input, current_player)\n",
    "        return True\n",
    "\n",
    "    def __init_board(self):\n",
    "        self.board = []\n",
    "        for i in range(self.rows):\n",
    "            self.board.append([self.EMPTY] * self.columns)\n",
    "\n",
    "    def __print(self, message: str):\n",
    "        if not self.silent:\n",
    "            print(message)\n",
    "\n",
    "    def __has_player_won_horizentally(self, player_id):\n",
    "        for i in range(self.rows):\n",
    "            for j in range(self.columns - self.__CONNECT_NUMBER + 1):\n",
    "                has_won = True\n",
    "                for x in range(self.__CONNECT_NUMBER):\n",
    "                    if self.board[i][j + x] != player_id:\n",
    "                        has_won = False\n",
    "                        break\n",
    "                if has_won:\n",
    "                    return True\n",
    "        return False\n",
    "\n",
    "    def __has_player_won_vertically(self, player_id):\n",
    "        for i in range(self.rows - self.__CONNECT_NUMBER + 1):\n",
    "            for j in range(self.columns):\n",
    "                has_won = True\n",
    "                for x in range(self.__CONNECT_NUMBER):\n",
    "                    if self.board[i + x][j] != player_id:\n",
    "                        has_won = False\n",
    "                        break\n",
    "                if has_won:\n",
    "                    return True\n",
    "        return False\n",
    "\n",
    "    def __has_player_won_diagonally(self, player_id):\n",
    "        for i in range(self.rows - self.__CONNECT_NUMBER + 1):\n",
    "            for j in range(self.columns - self.__CONNECT_NUMBER + 1):\n",
    "                has_won = True\n",
    "                for x in range(self.__CONNECT_NUMBER):\n",
    "                    if self.board[i + x][j + x] != player_id:\n",
    "                        has_won = False\n",
    "                        break\n",
    "                if has_won:\n",
    "                    return True\n",
    "                has_won = True\n",
    "                for x in range(self.__CONNECT_NUMBER):\n",
    "                    if self.board[i + self.__CONNECT_NUMBER - 1 - x][j + x] != player_id:\n",
    "                        has_won = False\n",
    "                        break\n",
    "                if has_won:\n",
    "                    return True\n",
    "        return False\n",
    "\n",
    "    def __get_random_starter(self):\n",
    "        players = [self.YOU, self.CPU]\n",
    "        return players[int(random() * len(players))]\n",
    "    \n",
    "    def __get_cpu_input(self):\n",
    "        \"\"\"\n",
    "        This is where clean code goes to die.\n",
    "        \"\"\"\n",
    "        bb = copy.deepcopy(self.board)\n",
    "        pm = self.get_possible_moves()\n",
    "        for m in pm:\n",
    "            self.register_input(m, self.CPU)\n",
    "            if (self.check_if_player_has_won(self.CPU)):\n",
    "                self.board = bb\n",
    "                return m\n",
    "            self.board = copy.deepcopy(bb)\n",
    "        if (self.is_move_valid((self.columns // 2) + 1)):\n",
    "            c = 0\n",
    "            cl = (self.columns // 2) + 1\n",
    "            for x in range(self.rows):\n",
    "                if (self.board[x][cl] == self.CPU):\n",
    "                    c += 1\n",
    "            if (random() < 0.65):\n",
    "                return cl\n",
    "        return pm[int(random() * len(pm))]\n",
    "    \n",
    "    def __drop_piece_in_column(self, move, current_player):\n",
    "        last_empty_space = 0\n",
    "        column_index = move - 1\n",
    "        for i in range(self.rows):\n",
    "            if (self.board[i][column_index] == 0):\n",
    "                last_empty_space = i\n",
    "        self.board[last_empty_space][column_index] = current_player\n",
    "        return True\n",
    "        \n",
    "    def __print_winner_message(self, winner):\n",
    "        if (winner == self.YOU):\n",
    "            self.__print(\"congrats! you have won!\")\n",
    "        else:\n",
    "            self.__print(\"gg. CPU has won!\")\n",
    "    \n",
    "    def __change_turn(self, turn):\n",
    "        if (turn == self.YOU): \n",
    "            return self.CPU\n",
    "        else:\n",
    "            return self.YOU\n",
    "\n",
    "    def __print_board(self):\n",
    "        if (self.silent): return\n",
    "        print(\"Y: you, C: CPU\")\n",
    "        for i in range(self.rows):\n",
    "            for j in range(self.columns):\n",
    "                house_char = \"O\"\n",
    "                if (self.board[i][j] == self.YOU):\n",
    "                    house_char = \"Y\"\n",
    "                elif (self.board[i][j] == self.CPU):\n",
    "                    house_char = \"C\"\n",
    "                    \n",
    "                print(f\"{house_char}\", end=\" \")\n",
    "            print()\n",
    "    \n",
    "    def minimax(self, alpha, beta, depth, isMaximizingPlayer):\n",
    "        possible_moves = self.get_possible_moves()\n",
    "        is_leaf_node = self.is_leaf_node()\n",
    "        is_game_over, winner = self.is_game_over()\n",
    "        \n",
    "        if is_game_over:\n",
    "            if winner == self.YOU:\n",
    "                return (0, self.YOU_WINS_SCORE)\n",
    "            elif winner == self.CPU:\n",
    "                return (0, self.YOU_LOSES_SCORE)\n",
    "            else:\n",
    "                return (0, 0)\n",
    "        elif is_leaf_node:\n",
    "                return (0, -2)\n",
    "        elif depth == 0:\n",
    "            return (0, self.heuristic_function()) \n",
    "                \n",
    "        \n",
    "        board_copy = copy.deepcopy(self.board)\n",
    "        best_move = choice(possible_moves)\n",
    "        if isMaximizingPlayer:\n",
    "            value = -math.inf\n",
    "            for move in possible_moves:\n",
    "                self.register_input(move, self.PLAYER_YOU_ID)\n",
    "                _, minimax_value = self.minimax(alpha, beta, depth-1, False)\n",
    "                value = max(value, minimax_value)\n",
    "                if value == minimax_value:\n",
    "                    best_move = move\n",
    "                self.board = board_copy\n",
    "                alpha = max(alpha, value)\n",
    "                if alpha >= beta:\n",
    "                    break\n",
    "            return best_move, value\n",
    "        else:\n",
    "            value = math.inf\n",
    "            for move in possible_moves:\n",
    "                self.register_input(move, self.PLAYER_CPU_ID)\n",
    "                _, minimax_value = self.minimax(alpha, beta, depth-1, True)\n",
    "                value = min(value, minimax_value)\n",
    "                if value == minimax_value:\n",
    "                    best_move = move\n",
    "                self.board = board_copy\n",
    "                beta = min(beta, value)\n",
    "                if beta <= alpha:\n",
    "                    break\n",
    "            return best_move, value\n",
    "            \n",
    "    def is_leaf_node(self):\n",
    "        if not self.get_possible_moves():\n",
    "            return True\n",
    "    \n",
    "    def is_game_over(self):\n",
    "        if self.check_if_player_has_won(self.YOU):\n",
    "            return True, self.YOU\n",
    "        elif self.check_if_player_has_won(self.CPU):\n",
    "            return True, self.CPU\n",
    "        return False, None\n",
    "    \n",
    "    def heuristic_function(self):\n",
    "        score = 0\n",
    "        \n",
    "        score += self.evaluate_horizontal_window()\n",
    "        score += self.evaluate_vertical_window()\n",
    "        score += self.evaluate_diagonal_positive()\n",
    "        score += self.evaluate_diagonal_negative()\n",
    "\n",
    "        return score\n",
    "    \n",
    "    def evaluate_horizontal_window(self):\n",
    "        board = np.array(self.board)\n",
    "        \n",
    "        for r in range(self.rows):\n",
    "            horizontal_array = list(int(i) for i in board[r,:])\n",
    "            for c in range(self.columns-3):\n",
    "                window = horizontal_array[c:c+self.WINDOW_LENGTH]\n",
    "                return self.evaluate_window(window)\n",
    "    \n",
    "    def evaluate_vertical_window(self):\n",
    "        board = np.array(self.board)\n",
    "        \n",
    "        for c in range(self.columns):\n",
    "            col_array = list(int(i) for i in list(board[:,c]))\n",
    "            for r in range(self.rows-3):\n",
    "                window = col_array[r:r+self.WINDOW_LENGTH]\n",
    "                return self.evaluate_window(window)\n",
    "    \n",
    "    def evaluate_diagonal_positive(self):\n",
    "        board = np.array(self.board)\n",
    "        \n",
    "        for r in range(self.rows-3):\n",
    "            for c in range(self.columns-3):\n",
    "                window = list(board[r+i][c+i] for i in range(self.WINDOW_LENGTH))\n",
    "                return self.evaluate_window(window)\n",
    "                \n",
    "    def evaluate_diagonal_negative(self):\n",
    "        board = np.array(self.board)\n",
    "        \n",
    "        for r in range(self.rows-3):\n",
    "            for c in range(self.columns-3):\n",
    "                window = list(board[r+3-i][c+i] for i in range(self.WINDOW_LENGTH))\n",
    "                return self.evaluate_window(window)\n",
    "    \n",
    "    def evaluate_window(self, window):\n",
    "        \n",
    "        score = 0\n",
    "        you_pieces = window.count(self.YOU)\n",
    "        cpu_pieces = window.count(self.CPU)\n",
    "        \n",
    "        if you_pieces == self.__CONNECT_NUMBER:\n",
    "            score += self.__CONNECT_NUMBER * self.PER_YOU_SCORE * 100\n",
    "        elif cpu_pieces > 0 and you_pieces == 0:\n",
    "            score += cpu_pieces * self.PER_CPU_SCORE + 4\n",
    "        elif you_pieces > 0 and cpu_pieces == 0:\n",
    "            score += you_pieces * self.PER_YOU_SCORE + 4\n",
    "        return score\n",
    "    \n",
    "    def set_depth_size(self, depth_size):\n",
    "        self.depth = depth_size\n",
    "                "
   ]
  },
  {
   "cell_type": "code",
   "execution_count": 89,
   "metadata": {},
   "outputs": [],
   "source": [
    "board_sizes_to_check = [(6,7), \n",
    "                        (7,8), \n",
    "                        (7,10)]\n",
    "repeat = 200\n",
    "board_result = [[0 for i in range(4)] for j in range(3)]"
   ]
  },
  {
   "cell_type": "markdown",
   "metadata": {},
   "source": [
    "<h3> Winning chance for depth 1 and board (6,7) </h3>"
   ]
  },
  {
   "cell_type": "code",
   "execution_count": 100,
   "metadata": {},
   "outputs": [
    {
     "name": "stdout",
     "output_type": "stream",
     "text": [
      "Chance of winning: 67.5\n"
     ]
    }
   ],
   "source": [
    "win=0\n",
    "game = ConnectSin(board_size=(6,7),silent=True)\n",
    "game.set_depth_size(1)\n",
    "for i in range(repeat):\n",
    "    result = game.run()\n",
    "    if result == 1:\n",
    "        win += 1\n",
    "chance = (win / repeat) * 100\n",
    "print('Chance of winning: ' + str(chance))\n",
    "\n",
    "board_result[0][0] = chance"
   ]
  },
  {
   "cell_type": "markdown",
   "metadata": {},
   "source": [
    "<h3> Winning chance for depth 3 and board (6,7) </h3>"
   ]
  },
  {
   "cell_type": "code",
   "execution_count": 102,
   "metadata": {},
   "outputs": [
    {
     "name": "stdout",
     "output_type": "stream",
     "text": [
      "Chance of winning: 69.0\n"
     ]
    }
   ],
   "source": [
    "win=0\n",
    "game = ConnectSin(board_size=(6,7),silent=True)\n",
    "game.set_depth_size(3)\n",
    "for i in range(repeat):\n",
    "    result = game.run()\n",
    "    if result == 1:\n",
    "        win += 1\n",
    "chance = (win / repeat) * 100\n",
    "print('Chance of winning: ' + str(chance))\n",
    "\n",
    "board_result[0][1] = chance"
   ]
  },
  {
   "cell_type": "markdown",
   "metadata": {},
   "source": [
    "<h3> Winning chance for depth 5 and board (6,7) </h3>"
   ]
  },
  {
   "cell_type": "code",
   "execution_count": 82,
   "metadata": {},
   "outputs": [
    {
     "name": "stdout",
     "output_type": "stream",
     "text": [
      "Chance of winning: 87.5\n"
     ]
    }
   ],
   "source": [
    "win=0\n",
    "game = ConnectSin(board_size=(6,7),silent=True)\n",
    "game.set_depth_size(5)\n",
    "for i in range(repeat):\n",
    "    result = game.run()\n",
    "    if result == 1:\n",
    "        win += 1\n",
    "chance = (win / repeat) * 100\n",
    "print('Chance of winning: ' + str(chance))\n",
    "\n",
    "board_result[0][2] = chance"
   ]
  },
  {
   "cell_type": "markdown",
   "metadata": {},
   "source": [
    "<h3> Winning chance for depth 7 and board (6,7) </h3>"
   ]
  },
  {
   "cell_type": "code",
   "execution_count": 83,
   "metadata": {},
   "outputs": [
    {
     "name": "stdout",
     "output_type": "stream",
     "text": [
      "Chance of winning: 99.5\n"
     ]
    }
   ],
   "source": [
    "win=0\n",
    "game = ConnectSin(board_size=(6,7),silent=True)\n",
    "game.set_depth_size(7)\n",
    "for i in range(repeat):\n",
    "    result = game.run()\n",
    "    if result == 1:\n",
    "        win += 1\n",
    "chance = (win / repeat) * 100\n",
    "print('Chance of winning: ' + str(chance))\n",
    "\n",
    "board_result[0][3] = chance"
   ]
  },
  {
   "cell_type": "markdown",
   "metadata": {},
   "source": [
    "<h3> Winning chance for depth 1 and board (7,8) </h3>"
   ]
  },
  {
   "cell_type": "code",
   "execution_count": 73,
   "metadata": {},
   "outputs": [
    {
     "name": "stdout",
     "output_type": "stream",
     "text": [
      "Chance of winning: 80.0\n"
     ]
    }
   ],
   "source": [
    "win=0\n",
    "game = ConnectSin(board_size=(7,8),silent=True)\n",
    "game.set_depth_size(1)\n",
    "for i in range(repeat):\n",
    "    result = game.run()\n",
    "    if result == 1:\n",
    "        win += 1\n",
    "chance = (win / repeat) * 100\n",
    "print('Chance of winning: ' + str(chance))\n",
    "\n",
    "board_result[1][0] = chance"
   ]
  },
  {
   "cell_type": "markdown",
   "metadata": {},
   "source": [
    "<h3> Winning chance for depth 3 and board (7,8) </h3>"
   ]
  },
  {
   "cell_type": "code",
   "execution_count": 103,
   "metadata": {},
   "outputs": [
    {
     "name": "stdout",
     "output_type": "stream",
     "text": [
      "Chance of winning: 76.5\n"
     ]
    }
   ],
   "source": [
    "win=0\n",
    "game = ConnectSin(board_size=(7,8),silent=True)\n",
    "game.set_depth_size(3)\n",
    "for i in range(repeat):\n",
    "    result = game.run()\n",
    "    if result == 1:\n",
    "        win += 1\n",
    "chance = (win / repeat) * 100\n",
    "print('Chance of winning: ' + str(chance))\n",
    "\n",
    "board_result[1][1] = chance"
   ]
  },
  {
   "cell_type": "markdown",
   "metadata": {},
   "source": [
    "<h3> Winning chance for depth 5 and board (7,8) </h3>"
   ]
  },
  {
   "cell_type": "code",
   "execution_count": 77,
   "metadata": {},
   "outputs": [
    {
     "name": "stdout",
     "output_type": "stream",
     "text": [
      "Chance of winning: 90.0\n"
     ]
    }
   ],
   "source": [
    "win=0\n",
    "game = ConnectSin(board_size=(7,8),silent=True)\n",
    "game.set_depth_size(5)\n",
    "for i in range(repeat):\n",
    "    result = game.run()\n",
    "    if result == 1:\n",
    "        win += 1\n",
    "chance = (win / repeat) * 100\n",
    "print('Chance of winning: ' + str(chance))\n",
    "\n",
    "board_result[1][2] = chance"
   ]
  },
  {
   "cell_type": "markdown",
   "metadata": {},
   "source": [
    "<h3> Winning chance for depth 7 and board (7,8) </h3>"
   ]
  },
  {
   "cell_type": "code",
   "execution_count": 97,
   "metadata": {},
   "outputs": [
    {
     "name": "stdout",
     "output_type": "stream",
     "text": [
      "Chance of winning: 98.5\n"
     ]
    }
   ],
   "source": [
    "win=0\n",
    "game = ConnectSin(board_size=(7,8),silent=True)\n",
    "game.set_depth_size(7)\n",
    "for i in range(repeat):\n",
    "    result = game.run()\n",
    "    if result == 1:\n",
    "        win += 1\n",
    "chance = (win / repeat) * 100\n",
    "print('Chance of winning: ' + str(chance))\n",
    "\n",
    "board_result[1][3] = chance"
   ]
  },
  {
   "cell_type": "markdown",
   "metadata": {},
   "source": [
    "<h3> Winning chance for depth 1 and board (7,10) </h3>"
   ]
  },
  {
   "cell_type": "code",
   "execution_count": 93,
   "metadata": {},
   "outputs": [
    {
     "name": "stdout",
     "output_type": "stream",
     "text": [
      "Chance of winning: 73.0\n"
     ]
    }
   ],
   "source": [
    "win=0\n",
    "game = ConnectSin(board_size=(6,7),silent=True)\n",
    "game.set_depth_size(1)\n",
    "for i in range(repeat):\n",
    "    result = game.run()\n",
    "    if result == 1:\n",
    "        win += 1\n",
    "chance = (win / repeat) * 100\n",
    "print('Chance of winning: ' + str(73.0))\n",
    "\n",
    "board_result[2][0] = chance"
   ]
  },
  {
   "cell_type": "markdown",
   "metadata": {},
   "source": [
    "<h3> Winning chance for depth 3 and board (7,10) </h3>"
   ]
  },
  {
   "cell_type": "code",
   "execution_count": 107,
   "metadata": {},
   "outputs": [
    {
     "name": "stdout",
     "output_type": "stream",
     "text": [
      "Chance of winning: 77.0\n"
     ]
    }
   ],
   "source": [
    "win=0\n",
    "game = ConnectSin(board_size=(6,7),silent=True)\n",
    "game.set_depth_size(3)\n",
    "for i in range(repeat):\n",
    "    result = game.run()\n",
    "    if result == 1:\n",
    "        win += 1\n",
    "chance = (win / repeat) * 100\n",
    "print('Chance of winning: ' + str(chance))\n",
    "\n",
    "board_result[2][1] = chance"
   ]
  },
  {
   "cell_type": "markdown",
   "metadata": {},
   "source": [
    "<h3> Winning chance for depth 5 and board (7,10) </h3>"
   ]
  },
  {
   "cell_type": "code",
   "execution_count": 108,
   "metadata": {},
   "outputs": [
    {
     "name": "stdout",
     "output_type": "stream",
     "text": [
      "Chance of winning: 91.5\n"
     ]
    }
   ],
   "source": [
    "win=0\n",
    "game = ConnectSin(board_size=(6,7),silent=True)\n",
    "game.set_depth_size(5)\n",
    "for i in range(repeat):\n",
    "    result = game.run()\n",
    "    if result == 1:\n",
    "        win += 1\n",
    "chance = (win / repeat) * 100\n",
    "print('Chance of winning: ' + str(chance))\n",
    "\n",
    "board_result[2][2] = chance"
   ]
  },
  {
   "cell_type": "markdown",
   "metadata": {},
   "source": [
    "<h3> Winning chance for depth 7 and board (7,10) </h3>"
   ]
  },
  {
   "cell_type": "code",
   "execution_count": 110,
   "metadata": {},
   "outputs": [
    {
     "name": "stdout",
     "output_type": "stream",
     "text": [
      "Chance of winning: 100.0\n"
     ]
    }
   ],
   "source": [
    "win=0\n",
    "game = ConnectSin(board_size=(6,7),silent=True)\n",
    "game.set_depth_size(7)\n",
    "for i in range(repeat):\n",
    "    result = game.run()\n",
    "    if result == 1:\n",
    "        win += 1\n",
    "chance = (win / repeat) * 100\n",
    "print('Chance of winning: ' + str(100.0))\n",
    "\n",
    "board_result[2][3] = chance"
   ]
  },
  {
   "cell_type": "markdown",
   "metadata": {},
   "source": [
    "<h2>Table of Chances</h2>"
   ]
  },
  {
   "cell_type": "markdown",
   "metadata": {},
   "source": [
    "| Board Size         | Depth           | Chance          |\n",
    "| ------------------ | --------------- | --------------- |\n",
    "| 6, 7               | 1               | 67.5            |\n",
    "| 6, 7               | 3               | 69.0            |\n",
    "| 6, 7               | 5               | 87.5            |\n",
    "| 6, 7               | 7               | 99.5            |\n",
    "| 7, 8               | 1               | 80.0            |\n",
    "| 7, 8               | 3               | 76.5            |\n",
    "| 7, 8               | 5               | 90.0            |\n",
    "| 7, 8               | 7               | 98.5            |\n",
    "| 7, 10              | 1               | 73.0            |\n",
    "| 7, 10              | 3               | 77.0            |\n",
    "| 7, 10              | 5               | 91.5            |\n",
    "| 7, 10              | 7               | 100.0           |"
   ]
  }
 ],
 "metadata": {
  "kernelspec": {
   "display_name": "Python 3 (ipykernel)",
   "language": "python",
   "name": "python3"
  },
  "language_info": {
   "codemirror_mode": {
    "name": "ipython",
    "version": 3
   },
   "file_extension": ".py",
   "mimetype": "text/x-python",
   "name": "python",
   "nbconvert_exporter": "python",
   "pygments_lexer": "ipython3",
   "version": "3.9.7"
  }
 },
 "nbformat": 4,
 "nbformat_minor": 4
}
